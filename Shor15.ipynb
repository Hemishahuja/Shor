{
  "cells": [
    {
      "cell_type": "markdown",
      "metadata": {
        "id": "view-in-github",
        "colab_type": "text"
      },
      "source": [
        "<a href=\"https://colab.research.google.com/github/Hemishahuja/eiffel_hello_world/blob/main/Shor15.ipynb\" target=\"_parent\"><img src=\"https://colab.research.google.com/assets/colab-badge.svg\" alt=\"Open In Colab\"/></a>"
      ]
    },
    {
      "cell_type": "markdown",
      "id": "255d7590-bf87-47d8-b0c6-ae67aef1403c",
      "metadata": {
        "id": "255d7590-bf87-47d8-b0c6-ae67aef1403c"
      },
      "source": [
        "See how to use Shor's algorithm to factor 15 here:    <b><a href=\"https://portal.quantumrings.com/doc/Shors.html\">Shor15</a></b>"
      ]
    },
    {
      "cell_type": "markdown",
      "id": "546dce63-062e-49d0-922a-ab233b397a70",
      "metadata": {
        "id": "546dce63-062e-49d0-922a-ab233b397a70"
      },
      "source": [
        "<i><b>Source code to factorize 15</b></i>"
      ]
    },
    {
      "cell_type": "markdown",
      "id": "85955e61-324f-4412-9bac-e6dd69699824",
      "metadata": {
        "id": "85955e61-324f-4412-9bac-e6dd69699824"
      },
      "source": [
        "Note: Be sure to use your API token and your account name."
      ]
    },
    {
      "cell_type": "code",
      "source": [
        "pip install QuantumRingsLib"
      ],
      "metadata": {
        "colab": {
          "base_uri": "https://localhost:8080/"
        },
        "id": "MjyUhdtADiZa",
        "outputId": "886366c4-95cc-4af0-a386-5ba1c6bd2ee3"
      },
      "id": "MjyUhdtADiZa",
      "execution_count": 2,
      "outputs": [
        {
          "output_type": "stream",
          "name": "stdout",
          "text": [
            "Requirement already satisfied: QuantumRingsLib in /usr/local/lib/python3.11/dist-packages (0.9.11)\n"
          ]
        }
      ]
    },
    {
      "cell_type": "markdown",
      "id": "ef5152de-a79d-4a8e-9870-77a2d13e265e",
      "metadata": {
        "id": "ef5152de-a79d-4a8e-9870-77a2d13e265e"
      },
      "source": [
        "Step 1. Import the required modules and obtain the backend"
      ]
    },
    {
      "cell_type": "code",
      "execution_count": 3,
      "id": "1098cc1a-6195-4fb4-87bb-9001779b002c",
      "metadata": {
        "colab": {
          "base_uri": "https://localhost:8080/"
        },
        "id": "1098cc1a-6195-4fb4-87bb-9001779b002c",
        "outputId": "e994f360-f3e8-462d-bbdc-431178adb72f"
      },
      "outputs": [
        {
          "output_type": "execute_result",
          "data": {
            "text/plain": [
              "{'name': 'haha1007@my.yorku.ca',\n",
              " 'token': 'rings-128.1wL7ihhPLHhG4qxog113VrcdBrXirlaM',\n",
              " 'max_qubits': '128'}"
            ]
          },
          "metadata": {},
          "execution_count": 3
        }
      ],
      "source": [
        "import QuantumRingsLib\n",
        "from QuantumRingsLib import QuantumRegister, AncillaRegister, ClassicalRegister, QuantumCircuit\n",
        "from QuantumRingsLib import QuantumRingsProvider\n",
        "from QuantumRingsLib import job_monitor\n",
        "from QuantumRingsLib import JobStatus\n",
        "from matplotlib import pyplot as plt\n",
        "import numpy as np\n",
        "import math\n",
        "\n",
        "\n",
        "provider = QuantumRingsProvider(\n",
        "    token='rings-128.1wL7ihhPLHhG4qxog113VrcdBrXirlaM',\n",
        "    name='haha1007@my.yorku.ca'\n",
        ")\n",
        "backend = provider.get_backend(\"scarlet_quantum_rings\")\n",
        "shots = 50000\n",
        "\n",
        "provider.active_account()"
      ]
    },
    {
      "cell_type": "markdown",
      "id": "f92608ce-86bd-4760-bc1c-ca7e722ae280",
      "metadata": {
        "id": "f92608ce-86bd-4760-bc1c-ca7e722ae280"
      },
      "source": [
        "Step 2. Define the core methods"
      ]
    },
    {
      "cell_type": "code",
      "execution_count": null,
      "id": "f32086a1-a980-4d19-8f14-0adcaae9c9c9",
      "metadata": {
        "id": "f32086a1-a980-4d19-8f14-0adcaae9c9c9"
      },
      "outputs": [],
      "source": [
        "############################################\n",
        "# FINAL SHOR'S ALGORITHM CODE\n",
        "############################################\n",
        "\n",
        "import QuantumRingsLib\n",
        "from QuantumRingsLib import (\n",
        "    QuantumRegister,\n",
        "    AncillaRegister,\n",
        "    ClassicalRegister,\n",
        "    QuantumCircuit,\n",
        "    QuantumRingsProvider,\n",
        "    job_monitor,\n",
        "    JobStatus\n",
        ")\n",
        "from matplotlib import pyplot as plt\n",
        "import numpy as np\n",
        "import math\n",
        "\n",
        "############################################\n",
        "# 1. Configure Quantum Rings Backend\n",
        "############################################\n",
        "# Replace with your actual token and account name:\n",
        "provider = QuantumRingsProvider(\n",
        "    token='rings-128.1wL7ihhPLHhG4qxog113VrcdBrXirlaM',\n",
        "    name='haha1007@my.yorku.ca'\n",
        ")\n",
        "backend = provider.get_backend(\"scarlet_quantum_rings\")\n",
        "shots = 1024\n",
        "\n",
        "# Check your account (optional)\n",
        "provider.active_account()\n",
        "\n",
        "############################################\n",
        "# 2. Utility Functions\n",
        "############################################\n",
        "\n",
        "def iqft_circuit(qc, qubits, n):\n",
        "    \"\"\"\n",
        "    Inverse QFT on 'n' qubits within the register 'qubits'.\n",
        "    \"\"\"\n",
        "    # Swap qubit i with qubit n-i-1\n",
        "    for i in range(n // 2):\n",
        "        qc.swap(qubits[i], qubits[n - i - 1])\n",
        "\n",
        "    # Apply the controlled phase and H gates\n",
        "    for i in range(n):\n",
        "        for j in range(i):\n",
        "            qc.cu1(-math.pi / float(2**(i - j)), qubits[j], qubits[i])\n",
        "        qc.h(qubits[i])\n",
        "\n",
        "    qc.barrier()\n",
        "    return qc\n",
        "\n",
        "\n",
        "def plot_histogram(counts, title=\"\"):\n",
        "    \"\"\"\n",
        "    Plot the histogram of measurement outcomes.\n",
        "    \"\"\"\n",
        "    fig, ax = plt.subplots(figsize=(10, 6))\n",
        "    xvals = list(counts.keys())\n",
        "    yvals = list(counts.values())\n",
        "    plt.bar(xvals, yvals)\n",
        "    plt.xlabel(\"Measurement Outcome\")\n",
        "    plt.ylabel(\"Counts\")\n",
        "    plt.title(title)\n",
        "    plt.xticks(rotation=90)\n",
        "    plt.show()\n",
        "\n",
        "\n",
        "############################################\n",
        "# 3. Modular Exponentiation Subcircuit (Placeholder)\n",
        "############################################\n",
        "def c_mult_mod_N(qc, ctl, x_reg, aux_reg, a, N, n):\n",
        "    \"\"\"\n",
        "    Controlled modular multiplication by 'a' mod N.\n",
        "    (Placeholder: implement logic in a real solution.)\n",
        "    \"\"\"\n",
        "    # In a full implementation, do:\n",
        "    #   if ctl == 1: x_reg = (x_reg * a) mod N\n",
        "    # using quantum adders & modular reduction.\n",
        "    pass\n",
        "\n",
        "def controlled_mod_exp(qc, ctl_reg, x_reg, aux_reg, a, N, n):\n",
        "    \"\"\"\n",
        "    Build the circuit for a^x mod N, controlled by each qubit in ctl_reg.\n",
        "    \"\"\"\n",
        "    current_power = 1\n",
        "    for i in range(len(ctl_reg)):\n",
        "        # a^(2^i) mod N\n",
        "        current_power = pow(a, 2**i, N)\n",
        "        c_mult_mod_N(qc, ctl_reg[i], x_reg, aux_reg, current_power, N, n)\n",
        "\n",
        "\n",
        "############################################\n",
        "# 4. Period Estimation\n",
        "############################################\n",
        "\n",
        "def estimate_period(measured_value, Q, a, N):\n",
        "    \"\"\"\n",
        "    Estimate the period r from the measured_value / Q using continued fractions.\n",
        "    \"\"\"\n",
        "    from fractions import Fraction\n",
        "\n",
        "    frac = Fraction(measured_value, Q).limit_denominator(N)\n",
        "    candidate_r = frac.denominator\n",
        "\n",
        "    # Check around candidate_r in a small range\n",
        "    for k in range(-2, 3):\n",
        "        test_r = candidate_r + k\n",
        "        if test_r <= 0:\n",
        "            continue\n",
        "        if pow(a, test_r, N) == 1:\n",
        "            return test_r\n",
        "    return None\n",
        "\n",
        "\n",
        "############################################\n",
        "# 5. Shor's Algorithm for Large N\n",
        "############################################\n",
        "def shors_factorization(N, a=None, shots=1024):\n",
        "    \"\"\"\n",
        "    Attempt Shor's algorithm once to factor N with base 'a' (optional).\n",
        "    Returns (factor1, factor2) or (None, None) if unsuccessful.\n",
        "    \"\"\"\n",
        "    from math import gcd\n",
        "    import random\n",
        "\n",
        "    if N < 2:\n",
        "        raise ValueError(\"N must be >= 2\")\n",
        "\n",
        "    # 1) Pick a random 'a' if not given\n",
        "    if not a:\n",
        "        for _ in range(1000):\n",
        "            candidate = random.randint(2, N-2)\n",
        "            if gcd(candidate, N) == 1:\n",
        "                a = candidate\n",
        "                break\n",
        "    if not a:\n",
        "        print(\"Failed to find 'a' coprime with N.\")\n",
        "        return None, None\n",
        "\n",
        "    # 2) Determine qubit counts\n",
        "    n = math.ceil(math.log2(N))\n",
        "    counting_qubits = 2 * n\n",
        "    ancilla_qubits = n\n",
        "\n",
        "    print(f\"Factoring N={N} (roughly {n} bits) with base a={a}\")\n",
        "    print(f\"Total qubits = {counting_qubits} (counting) + {n} (x_reg) + {ancilla_qubits} (ancillas)\")\n",
        "\n",
        "    # 3) Build quantum registers\n",
        "    ctl_reg = QuantumRegister(counting_qubits, \"ctl\")\n",
        "    x_reg   = QuantumRegister(n, \"x\")\n",
        "    aux_reg = QuantumRegister(ancilla_qubits, \"aux\")\n",
        "    c_reg   = ClassicalRegister(counting_qubits, \"c\")\n",
        "\n",
        "    qc = QuantumCircuit(ctl_reg, x_reg, aux_reg, c_reg)\n",
        "\n",
        "    # 4) Initialize x_reg to |1>\n",
        "    qc.x(x_reg[n - 1])\n",
        "\n",
        "    # 5) Put control register in superposition\n",
        "    for i in range(counting_qubits):\n",
        "        qc.h(ctl_reg[i])\n",
        "    qc.barrier()\n",
        "\n",
        "    # 6) Controlled modular exponentiation\n",
        "    controlled_mod_exp(qc, ctl_reg, x_reg, aux_reg, a, N, n)\n",
        "    qc.barrier()\n",
        "\n",
        "    # 7) Inverse QFT on control register\n",
        "    iqft_circuit(qc, ctl_reg, counting_qubits)\n",
        "\n",
        "    # 8) Measure\n",
        "    for i in range(counting_qubits):\n",
        "        qc.measure(ctl_reg[i], c_reg[i])\n",
        "\n",
        "    # 9) Execute\n",
        "    job = backend.run(qc, shots=shots)\n",
        "    job_monitor(job)\n",
        "    result = job.result()\n",
        "    counts = result.get_counts()\n",
        "\n",
        "    # 10) Classical post-processing\n",
        "    from math import gcd\n",
        "    measurement_outcome = max(counts, key=counts.get)  # highest freq\n",
        "    measured_int = int(measurement_outcome, 2)\n",
        "    Q = 2 ** counting_qubits\n",
        "\n",
        "    r = estimate_period(measured_int, Q, a, N)\n",
        "    if r is None or r == 0:\n",
        "        print(\"Failed to find a valid period. Try a different 'a' or more shots.\")\n",
        "        return None, None\n",
        "\n",
        "    factor1 = gcd(pow(a, r // 2, N) - 1, N)\n",
        "    factor2 = gcd(pow(a, r // 2, N) + 1, N)\n",
        "\n",
        "    if factor1 == 1 or factor1 == N:\n",
        "        print(\"Period found, but factors were trivial. Try again.\")\n",
        "        return None, None\n",
        "\n",
        "    print(f\"Factors of {N} are: {factor1} and {factor2}\")\n",
        "    return factor1, factor2\n",
        "\n",
        "\n",
        "def shors_factorization_with_retries(N, max_attempts=10, shots=1024):\n",
        "    \"\"\"\n",
        "    Run Shor's algorithm multiple times (up to max_attempts),\n",
        "    picking a new random 'a' each time, until it finds valid factors.\n",
        "    \"\"\"\n",
        "    from math import gcd\n",
        "    attempt = 0\n",
        "\n",
        "    while attempt < max_attempts:\n",
        "        attempt += 1\n",
        "        print(f\"\\nAttempt {attempt} of {max_attempts}...\")\n",
        "        factor1, factor2 = shors_factorization(N, a=None, shots=shots)\n",
        "        if factor1 and factor2:\n",
        "            print(f\"SUCCESS: Found factors after {attempt} attempts.\")\n",
        "            return factor1, factor2\n",
        "        else:\n",
        "            print(\"No non-trivial factors found in this attempt. Trying again...\")\n",
        "\n",
        "    print(f\"\\nFailed to factor {N} in {max_attempts} attempts.\")\n",
        "    return None, None\n",
        "\n",
        "\n",
        "############################################\n",
        "# 6. Example Usage\n",
        "############################################\n",
        "if __name__ == \"__main__\":\n",
        "    #\n",
        "    # PART A: Factor a ~17-bit integer with multiple attempts\n",
        "    #\n",
        "    N_large = 1019 * 1039  # 105741\n",
        "    f1, f2 = shors_factorization_with_retries(N_large, max_attempts=5, shots=1024)\n",
        "    if f1 and f2:\n",
        "        print(f\"\\nFINAL RESULT for N={N_large}: {f1} x {f2}\")\n",
        "    else:\n",
        "        print(f\"\\nNo luck factoring N={N_large} in 5 attempts.\")\n",
        "\n",
        "    #\n",
        "    # PART B: Demonstrate factoring 15 with a simpler circuit\n",
        "    #\n",
        "    q2 = QuantumRegister(7, 'q')\n",
        "    c2 = ClassicalRegister(4, 'c')\n",
        "    qc2 = QuantumCircuit(q2, c2)\n",
        "\n",
        "    # 1) Initialize: H on qubits 0,1,2; X on qubit 6\n",
        "    qc2.h(q2[0])\n",
        "    qc2.h(q2[1])\n",
        "    qc2.h(q2[2])\n",
        "    qc2.x(q2[6])\n",
        "    qc2.barrier()\n",
        "\n",
        "    # 2) Example modular exponentiation for 7^x mod 15\n",
        "    qc2.cx(q2[2], q2[4])\n",
        "    qc2.cx(q2[2], q2[5])\n",
        "    qc2.cx(q2[6], q2[4])\n",
        "    qc2.ccx(q2[1], q2[5], q2[3])\n",
        "    qc2.cx(q2[3], q2[5])\n",
        "    qc2.ccx(q2[1], q2[4], q2[6])\n",
        "    qc2.cx(q2[6], q2[4])\n",
        "    qc2.barrier()\n",
        "\n",
        "    # 3) Inverse QFT on qubits [0..2]\n",
        "    iqft_circuit(qc2, q2, 3)\n",
        "\n",
        "    # 4) Measure qubits 0,1,2 -> c2[0,1,2]\n",
        "    qc2.measure(q2[0], c2[0])\n",
        "    qc2.measure(q2[1], c2[1])\n",
        "    qc2.measure(q2[2], c2[2])\n",
        "\n",
        "    # Execute\n",
        "    job2 = backend.run(qc2, shots=shots)\n",
        "    job_monitor(job2)\n",
        "    result2 = job2.result()\n",
        "    counts2 = result2.get_counts()\n",
        "\n",
        "    # Show results\n",
        "    plot_histogram(counts2, title=\"Measurement Outcomes for factoring 15\")\n",
        "    print(\"\\nCounts for factoring 15:\", counts2)\n",
        "\n",
        "    # (Optional) Cleanup\n",
        "    del qc2, q2, c2, result2, job2\n"
      ]
    },
    {
      "cell_type": "markdown",
      "id": "2f211c13-04db-4f78-b700-5bde24875ab8",
      "metadata": {
        "id": "2f211c13-04db-4f78-b700-5bde24875ab8"
      },
      "source": [
        "Step 3. Perform the algorithm"
      ]
    },
    {
      "cell_type": "markdown",
      "id": "72783cb3-a464-4a9c-98ac-9ad533f53222",
      "metadata": {
        "id": "72783cb3-a464-4a9c-98ac-9ad533f53222"
      },
      "source": [
        "The circuit to factor 15 shown above."
      ]
    },
    {
      "cell_type": "markdown",
      "id": "d69fcca9-6545-4f8a-9758-0865e240a57e",
      "metadata": {
        "id": "d69fcca9-6545-4f8a-9758-0865e240a57e"
      },
      "source": [
        "A plot of the execution results is shown above. Compare this with the calculated values."
      ]
    },
    {
      "cell_type": "markdown",
      "id": "f4545dfd-da08-4ac1-87c9-b426a92de748",
      "metadata": {
        "id": "f4545dfd-da08-4ac1-87c9-b426a92de748"
      },
      "source": [
        "Footnotes\n",
        "\n",
        "[1] This section is based on [10], [14], and [16].\n",
        "\n",
        "[2] https://research.ibm.com/blog/factor-15-shors-algorithm\n",
        "\n",
        "[3] https://en.wikipedia.org/wiki/Integer_factorization_records#Records_for_efforts_by_quantum_computers"
      ]
    }
  ],
  "metadata": {
    "kernelspec": {
      "display_name": "Python 3 (ipykernel)",
      "language": "python",
      "name": "python3"
    },
    "language_info": {
      "codemirror_mode": {
        "name": "ipython",
        "version": 3
      },
      "file_extension": ".py",
      "mimetype": "text/x-python",
      "name": "python",
      "nbconvert_exporter": "python",
      "pygments_lexer": "ipython3",
      "version": "3.11.11"
    },
    "colab": {
      "provenance": [],
      "include_colab_link": true
    }
  },
  "nbformat": 4,
  "nbformat_minor": 5
}